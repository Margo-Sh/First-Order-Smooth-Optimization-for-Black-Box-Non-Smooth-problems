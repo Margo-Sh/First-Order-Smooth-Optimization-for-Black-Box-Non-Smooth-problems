{
  "nbformat": 4,
  "nbformat_minor": 0,
  "metadata": {
    "colab": {
      "provenance": [],
      "collapsed_sections": [
        "s16CjWiNI2Lr",
        "rzEWa_qKEyWI",
        "nP_atx0wEEUl",
        "_igq-gHKKE_w"
      ]
    },
    "kernelspec": {
      "name": "python3",
      "display_name": "Python 3"
    },
    "language_info": {
      "name": "python"
    }
  },
  "cells": [
    {
      "cell_type": "markdown",
      "source": [],
      "metadata": {
        "id": "cNg-bLo3EAtq"
      }
    },
    {
      "cell_type": "markdown",
      "source": [
        "# Загрузка библиотек"
      ],
      "metadata": {
        "id": "OvDBUxa5EBIM"
      }
    },
    {
      "cell_type": "code",
      "execution_count": 1,
      "metadata": {
        "id": "wSLJL48LBeOT"
      },
      "outputs": [],
      "source": [
        "import jax\n",
        "import torch\n",
        "from torch.optim import Adam\n",
        "import torch.nn as nn\n",
        "from torch.autograd import Variable\n",
        "import math\n",
        "import numpy as np\n",
        "import scipy.stats as sps\n",
        "from numpy import linalg as LA\n",
        "import jax.numpy as jnp\n",
        "\n",
        "import pandas as pd\n",
        "\n",
        "from collections import deque\n",
        "from functools import partial\n",
        "import time\n",
        "\n",
        "# import sklearn.datasets as skldata\n",
        "\n",
        "\n",
        "import seaborn as sns\n",
        "import matplotlib.pyplot as plt\n",
        "\n",
        "jax.config.update(\"jax_enable_x64\", True)\n",
        "plt.rcParams.update({\"font.family\": \"Helvetica\"})\n",
        "sns.set_context(\"talk\")\n",
        "sns.set(font_scale=1.3, palette='Set2')"
      ]
    },
    {
      "cell_type": "markdown",
      "source": [
        "# Общие стандартные методы гладкой оптимизации"
      ],
      "metadata": {
        "id": "s16CjWiNI2Lr"
      }
    },
    {
      "cell_type": "markdown",
      "source": [
        "Самый обычный градиентный спуск, можно менять скорость от номера итерации, а также критерий остановки"
      ],
      "metadata": {
        "id": "C61gQB2GJmvo"
      }
    },
    {
      "cell_type": "code",
      "source": [
        "def gradient_descent(f, nabla_f, x_0, lr,\n",
        "                     K = 10**4, eps = 10**-6, criteria=0,\n",
        "                              time_history=True):\n",
        "    start_time = time.time()\n",
        "\n",
        "    time_arr = []\n",
        "    errors_arr = []\n",
        "    x = x_0\n",
        "\n",
        "    # start_grad = nabla_f(x_0)\n",
        "\n",
        "    k = 1\n",
        "\n",
        "    while True:\n",
        "      # print(nabla_f(x))\n",
        "      x_1 = x - lr(k) * nabla_f(x) # / start_grad\n",
        "\n",
        "\n",
        "      error = criteria(x_1)\n",
        "\n",
        "      errors_arr.append(error)\n",
        "\n",
        "      x = x_1\n",
        "\n",
        "      k += 1\n",
        "\n",
        "      if time_history:\n",
        "        time_arr.append(time.time() - start_time)\n",
        "\n",
        "      if error < eps:\n",
        "        break\n",
        "\n",
        "      if k > K:\n",
        "        break\n",
        "\n",
        "    if time_history:\n",
        "      return x, np.array(errors_arr), np.array(time_arr)\n",
        "    return x, np.array(errors_arr)"
      ],
      "metadata": {
        "id": "r_DIWNceJTHC"
      },
      "execution_count": 2,
      "outputs": []
    },
    {
      "cell_type": "markdown",
      "source": [
        "Метод ускоренного градиентного спуска (Нестеров), можно менять скорость и момент от номера итерации, а также критерий остановки"
      ],
      "metadata": {
        "id": "Mhwfj3ugJyEQ"
      }
    },
    {
      "cell_type": "code",
      "source": [
        "def nesterov_gradient_descent(f, nabla_f, x_0, lr, tau,\n",
        "                     K = 10**3, eps = 10**-6, criteria=0,\n",
        "                              time_history=True):\n",
        "    '''\n",
        "        f - целевая функция\n",
        "        nabla_f - градиент целевой функции\n",
        "        x_0 - стартовая точка\n",
        "        lr - функция для вычисления шага метода\n",
        "        tau - функция для вычисления шага моментума метода\n",
        "        K - количество итераций (по умолчанию 1е3)\n",
        "        eps - желаемая точность (по умолчанию 1е-5)\n",
        "\n",
        "        Функция возвращает точку, в которой достигается минимум и вектор ошибок\n",
        "    '''\n",
        "    start_time = time.time()\n",
        "\n",
        "    time_arr = []\n",
        "    errors_arr = []\n",
        "    x = x_0\n",
        "    y = x_0\n",
        "    x_1 = x_0\n",
        "    y_1 = x_0\n",
        "\n",
        "    start_grad = nabla_f(x_0)\n",
        "\n",
        "    k = 1\n",
        "\n",
        "    while True:\n",
        "\n",
        "      x_1 = y - lr(k) * nabla_f(x) # / start_grad\n",
        "      y_1 = x_1 + tau(k) * (x_1 - x)\n",
        "\n",
        "\n",
        "      error = criteria(x_1)\n",
        "\n",
        "      errors_arr.append(error)\n",
        "\n",
        "      x = x_1\n",
        "      y = y_1\n",
        "\n",
        "      k += 1\n",
        "\n",
        "      if time_history:\n",
        "        time_arr.append(time.time() - start_time)\n",
        "\n",
        "      if error < eps:\n",
        "        break\n",
        "\n",
        "      if k > K:\n",
        "        break\n",
        "\n",
        "    if time_history:\n",
        "      return x, np.array(errors_arr), np.array(time_arr)\n",
        "    return x, np.array(errors_arr)"
      ],
      "metadata": {
        "id": "NAew1sIoI7r9"
      },
      "execution_count": 3,
      "outputs": []
    },
    {
      "cell_type": "markdown",
      "source": [
        "Метод ADAM, можно менять скорость от номера итерации, а также критерий остановки"
      ],
      "metadata": {
        "id": "efm9AtQVJ6uM"
      }
    },
    {
      "cell_type": "code",
      "source": [],
      "metadata": {
        "id": "X-M1Ix4bJj9k"
      },
      "execution_count": 3,
      "outputs": []
    },
    {
      "cell_type": "markdown",
      "source": [
        "# Общие функции для приближения градиента"
      ],
      "metadata": {
        "id": "rzEWa_qKEyWI"
      }
    },
    {
      "cell_type": "markdown",
      "source": [
        "Варианты приближения градиента:\n",
        "\n",
        "Central finite difference (Central)\n",
        " $$\\nabla f_{\\gamma} (x, e) = d \\frac{f (x + \\gamma e) - f (x - \\gamma e)}{2 \\gamma} e \\qquad (2)$$\n",
        "\n",
        "Forward finite difference (Forward)\n",
        "$$\\nabla f_{\\gamma} (x, e) = d \\frac{f (x + \\gamma e) - f (x)}{\\gamma} e. \\qquad (14)$$\n"
      ],
      "metadata": {
        "id": "oYWcs7QkKS0f"
      }
    },
    {
      "cell_type": "code",
      "source": [
        "def sample_spherical(npoints, d=3):\n",
        "  '''\n",
        "        npoints -  кол-во точек, которое хотим получить\n",
        "        d - размерность сферы\n",
        "\n",
        "        Функция возвращает npoints случайных точек на сфере S^d_2 единичного радиуса с центром в нуле\n",
        "  '''\n",
        "  vec = np.random.randn(d, npoints)\n",
        "  vec /= np.linalg.norm(vec, axis=0)\n",
        "  return vec"
      ],
      "metadata": {
        "id": "GTwLJwf3rW-c"
      },
      "execution_count": 17,
      "outputs": []
    },
    {
      "cell_type": "code",
      "source": [
        "def central_gradient_approximation_direction(oracul, gamma, x, e):\n",
        "  '''\n",
        "        oracul - оракул, который возвращает значения в 2 точках для одного значения случайной величины\n",
        "        gamma - окрестность\n",
        "        x - точка\n",
        "        e - вектор, по которому ищем градиент\n",
        "\n",
        "        Функция возвращает градиент\n",
        "    '''\n",
        "  assert(gamma != 0)\n",
        "  assert(x.shape == e.shape)\n",
        "  points = np.concatenate((x - gamma * e, x + gamma * e),axis=1)\n",
        "  values = oracul.get_two_values(points)\n",
        "  return x.shape[0] * (values[1] - values[0]) / (2 * gamma) * e"
      ],
      "metadata": {
        "id": "VnMsf7YgE3RP"
      },
      "execution_count": 5,
      "outputs": []
    },
    {
      "cell_type": "code",
      "source": [
        "def forward_gradient_approximation_direction(oracul, gamma, x, e):\n",
        "  '''\n",
        "        oracul - оракул, который возвращает значения в 2 точках для одного значения случайной величины\n",
        "        gamma - окрестность\n",
        "        x - точка\n",
        "        e - вектор, по которому ищем градиент\n",
        "\n",
        "        Функция возвращает градиент\n",
        "    '''\n",
        "  assert(gamma != 0)\n",
        "  assert(x.shape == e.shape)\n",
        "  points = np.concatenate((x, x + gamma * e),axis=1)\n",
        "  values = oracul.get_two_values(points)\n",
        "  return x.shape[0] * (values[1] - values[0]) / (2 * gamma) * e"
      ],
      "metadata": {
        "id": "uzsiF3oFwx45"
      },
      "execution_count": 51,
      "outputs": []
    },
    {
      "cell_type": "markdown",
      "source": [
        "Координатный Central подход: отдельно считаем для каждого $e = (0, \\ldots 1, \\ldots  0)^T$, где на $i$-той позиции $1$."
      ],
      "metadata": {
        "id": "UTgqdCrRW7Y7"
      }
    },
    {
      "cell_type": "markdown",
      "source": [
        "Central подход: считаем для $e \\sim RS_d^2(1)$ случайный вектор с равномерным распределением на сфере."
      ],
      "metadata": {
        "id": "r_cxf4nBXfOW"
      }
    },
    {
      "cell_type": "code",
      "source": [
        "def gradient_approximation_central(oracul, gamma, x, coordinates=False):\n",
        "    '''\n",
        "        oracul - оракул, который возвращает значения в 2 точках для одного значения случайной величины\n",
        "        gamma - окрестность\n",
        "        x - точка\n",
        "        coordinates - True\\False, считать отдельно по каждому направлению или нет\n",
        "        Функция возвращает приближение градиента\n",
        "    '''\n",
        "    assert(gamma != 0)\n",
        "\n",
        "    d = x.shape[0]\n",
        "\n",
        "    if not coordinates:\n",
        "      e = sample_spherical(1, d)\n",
        "      return central_gradient_approximation_direction(oracul, gamma, x,\n",
        "                                                    e)\n",
        "\n",
        "\n",
        "    grads = 0\n",
        "    for i in range(d):\n",
        "      e = np.zeros(x.shape)\n",
        "      e[i, 0] = 1\n",
        "      grads += central_gradient_approximation_direction(oracul, gamma, x, e)\n",
        "    return grads"
      ],
      "metadata": {
        "id": "VO631rR3nXPI"
      },
      "execution_count": 50,
      "outputs": []
    },
    {
      "cell_type": "markdown",
      "source": [
        "Координатный Forward подход: отдельно считаем для каждого $e = (0, \\ldots 1, \\ldots  0)^T$, где на $i$-той позиции $1$."
      ],
      "metadata": {
        "id": "ffg2ChBvXX5n"
      }
    },
    {
      "cell_type": "markdown",
      "source": [
        "Forward подход: считаем для $e = (1, \\ldots 1)^T$"
      ],
      "metadata": {
        "id": "Q9j2Xw0CXvcD"
      }
    },
    {
      "cell_type": "code",
      "source": [
        "def gradient_approximation_forward(oracul, gamma, x, coordinates=False):\n",
        "    '''\n",
        "        oracul - оракул, который возвращает значение в 1 точке\n",
        "        gamma - окрестность\n",
        "        x - точка\n",
        "        coordinates - True\\False, считать отдельно по каждому направлению или нет\n",
        "        Функция возвращает приближение градиента\n",
        "    '''\n",
        "    assert(gamma != 0)\n",
        "\n",
        "    d = x.shape[0]\n",
        "\n",
        "\n",
        "    if not coordinates:\n",
        "      e = sample_spherical(1, d)\n",
        "      return forward_gradient_approximation_direction(oracul, gamma, x,\n",
        "                                                    e)\n",
        "\n",
        "    value_in_x = oracul.get_one_value(x)\n",
        "\n",
        "    grads = 0\n",
        "    for i in range(d):\n",
        "      e = np.zeros((x.shape))\n",
        "      e[i, 0] = 1\n",
        "      value = oracul.get_one_value(x + gamma * e)\n",
        "      grad = d * (value - value_in_x) * e / gamma\n",
        "      grads += grad\n",
        "    return grads"
      ],
      "metadata": {
        "id": "6PNjRSROlZ46"
      },
      "execution_count": 49,
      "outputs": []
    },
    {
      "cell_type": "markdown",
      "source": [
        "# Функции для графиков"
      ],
      "metadata": {
        "id": "vYYa9NoXwHbM"
      }
    },
    {
      "cell_type": "code",
      "source": [
        "def plot_loss_by_step(errors_lists, names_list, title=None):\n",
        "  assert(len(errors_lists) == len(names_list))\n",
        "  plt.figure(figsize=(12, 6))\n",
        "\n",
        "  for i in range(len(names_list)):\n",
        "    plt.plot(np.arange(len(errors_lists[i])), errors_lists[i], label=names_list[i])\n",
        "\n",
        "  plt.legend()\n",
        "\n",
        "  plt.yscale('log')\n",
        "\n",
        "  plt.xlabel('Номер итерации')\n",
        "  plt.ylabel('Значения функции потерь')\n",
        "\n",
        "  if title == None:\n",
        "    plt.title('Сходимость для разных методов аппроксимации градиента', fontsize=20)\n",
        "  else:\n",
        "    plt.title(title, fontsize=20)\n",
        "  plt.show()"
      ],
      "metadata": {
        "id": "2cP02tciwRK9"
      },
      "execution_count": 59,
      "outputs": []
    },
    {
      "cell_type": "code",
      "source": [
        "def plot_loss_by_time(time_lists, errors_lists, names_list, title=None):\n",
        "  assert(len(errors_lists) == len(names_list))\n",
        "  assert(len(errors_lists) == len(time_lists))\n",
        "  plt.figure(figsize=(12, 6))\n",
        "\n",
        "  for i in range(len(names_list)):\n",
        "    plt.plot(time_lists[i], errors_lists[i], label=names_list[i])\n",
        "\n",
        "  plt.legend()\n",
        "\n",
        "  plt.yscale('log')\n",
        "\n",
        "  plt.xlabel('Время, с')\n",
        "  plt.ylabel('Значения функции потерь')\n",
        "\n",
        "  if title == None:\n",
        "    plt.title('Сходимость для разных методов аппроксимации градиента', fontsize=20)\n",
        "  else:\n",
        "    plt.title(title, fontsize=20)\n",
        "  plt.show()"
      ],
      "metadata": {
        "id": "Zc695t7ixeN7"
      },
      "execution_count": 62,
      "outputs": []
    },
    {
      "cell_type": "markdown",
      "source": [
        "# LAD Regression"
      ],
      "metadata": {
        "id": "8Bd7EG1-E8QP"
      }
    },
    {
      "cell_type": "markdown",
      "source": [
        "## Загрузка данных"
      ],
      "metadata": {
        "id": "nP_atx0wEEUl"
      }
    },
    {
      "cell_type": "code",
      "source": [
        "def replace_categories(df):\n",
        "  encoder = {'I': 0, 'F': 1, 'M': 2}\n",
        "  df.iloc[:, 0] = df.iloc[:, 0].apply(lambda x: encoder[x])\n",
        "  return df"
      ],
      "metadata": {
        "id": "Qlk5pZQFbu_U"
      },
      "execution_count": 9,
      "outputs": []
    },
    {
      "cell_type": "code",
      "source": [
        "dataset = 'abalone_train.csv'"
      ],
      "metadata": {
        "id": "KKwDYdYKESK2"
      },
      "execution_count": 10,
      "outputs": []
    },
    {
      "cell_type": "code",
      "source": [
        "data = pd.read_csv(dataset, header=None)\n",
        "\n",
        "data = replace_categories(data)\n",
        "X, y = data.iloc[:, 0:-1].to_numpy(), data.iloc[:, -1].to_numpy()"
      ],
      "metadata": {
        "colab": {
          "base_uri": "https://localhost:8080/"
        },
        "id": "jmGhJwxdZy0e",
        "outputId": "82c3c9dd-89fe-4e9b-f47a-19d785bf6d3e"
      },
      "execution_count": 11,
      "outputs": [
        {
          "output_type": "stream",
          "name": "stderr",
          "text": [
            "<ipython-input-9-239415b96ca5>:3: DeprecationWarning: In a future version, `df.iloc[:, i] = newvals` will attempt to set the values inplace instead of always setting a new array. To retain the old behavior, use either `df[df.columns[i]] = newvals` or, if columns are non-unique, `df.isetitem(i, newvals)`\n",
            "  df.iloc[:, 0] = df.iloc[:, 0].apply(lambda x: encoder[x])\n"
          ]
        }
      ]
    },
    {
      "cell_type": "markdown",
      "source": [
        "we divide dataset \"abalone scale\" into two parts, where the part for training is 3500 samples. The dimension of features equals to 8. So, it is a very small dataset. We take dataset with such small dimension to compare Forward and Central with their variants of coordinate steps that depend on dimension."
      ],
      "metadata": {
        "id": "I1L7uAu6CZFc"
      }
    },
    {
      "cell_type": "code",
      "source": [
        "from sklearn.model_selection import train_test_split\n",
        "X_train, X_val, y_train, y_val = train_test_split(X, y, test_size=0.2, random_state=42)"
      ],
      "metadata": {
        "id": "EGv_gx6AEQxE"
      },
      "execution_count": 12,
      "outputs": []
    },
    {
      "cell_type": "markdown",
      "source": [
        "## Функция потерь и оракул 0-порядка"
      ],
      "metadata": {
        "id": "CN-a6-7pFAIO"
      }
    },
    {
      "cell_type": "markdown",
      "source": [
        "Least absolute deviation (LAD) regression\n",
        "$$\\min_{w \\in R^d} \\{f (w) = \\frac{1}{m} \\sum^m_{k=1}|x^T_k w - y_k|\\} \\qquad \\mbox{негладкая функция}$$\n",
        "задача оптимизации с конечной суммой\n"
      ],
      "metadata": {
        "id": "E0VLoyIPHYaM"
      }
    },
    {
      "cell_type": "markdown",
      "source": [
        "Оракул нулевого порядка, который выдает значения в 1 или 2 точках (для одного $i$) за один запрос."
      ],
      "metadata": {
        "id": "vBhiaLQ9sE2f"
      }
    },
    {
      "cell_type": "code",
      "source": [
        "class LADZeroOrderOracul:\n",
        "  def __init__(self, X, y):\n",
        "    assert(X.shape[0] == y.shape[0])\n",
        "    self.X = X\n",
        "    self.y = y\n",
        "\n",
        "  def get_one_value(self, w):\n",
        "    assert(w.shape == (self.X.shape[1], 1))\n",
        "    i = np.random.randint(self.X.shape[0], size=1)\n",
        "    return np.abs(self.X[i] @ w - self.y[i])[0, 0]\n",
        "\n",
        "  def get_two_values(self, w):\n",
        "    assert(w.shape == (self.X.shape[1], 2))\n",
        "    i = np.random.randint(self.X.shape[0], size=1)\n",
        "    return np.abs(self.X[i] @ w - self.y[i])[0]\n",
        "\n",
        "  def get_total_loss(self, w):\n",
        "    assert(w.shape == (self.X.shape[1], 1))\n",
        "    return np.mean(np.abs(self.X @ w - self.y))\n",
        "\n",
        "  def get_total_grad(self, w):\n",
        "    assert(w.shape == (self.X.shape[1], 1))\n",
        "    preds = self.X @ w\n",
        "    signs  = 2 * (preds > self.y) - 1\n",
        "    return np.mean(self.X * signs, axis=0).reshape((-1,1))"
      ],
      "metadata": {
        "id": "LRYkvzbiF9e2"
      },
      "execution_count": 13,
      "outputs": []
    },
    {
      "cell_type": "markdown",
      "source": [
        "Функция потерь и градиент всей функции потерь для экспериментов"
      ],
      "metadata": {
        "id": "3za3YuKusXka"
      }
    },
    {
      "cell_type": "markdown",
      "source": [
        "## Нахождение $\\gamma$"
      ],
      "metadata": {
        "id": "z096s3Ubrjgh"
      }
    },
    {
      "cell_type": "markdown",
      "source": [
        "$M_2$  -- константа Липшица для функции $f$ и нормы $2$:\n",
        "\n",
        "$|f (w_2) - f (w_1)| \\leq M_2 ||w_2 - w_1||_2$ на $Q_\\gamma$\n",
        "\n",
        "$\\frac{1}{m} \\sum^m_{k=1}(|x^T_k w_2 - y_i| - |x^T_k w_1 - y_i|) \\leq \\frac{1}{m} \\sum^m_{k=1} |x^T_k (w_2 - w_1)| \\leq $\n",
        "\n",
        "$M_2 = \\max \\{ |x_i^j| \\; | \\; 1 \\leq i \\leq m, \\; 1 \\leq j \\leq d \\}$\n",
        "\n",
        "$\\varepsilon $ -- точность, с которой хотим решить\n",
        "\n",
        "Тогда берем $\\gamma = \\varepsilon/(2 M_2)$"
      ],
      "metadata": {
        "id": "BelrOvvFcthb"
      }
    },
    {
      "cell_type": "code",
      "source": [
        "eps = 1e-3\n",
        "M2 = np.max(np.abs(X_train))\n",
        "lad_gamma = eps / (2 * M2)\n",
        "print(lad_gamma)"
      ],
      "metadata": {
        "colab": {
          "base_uri": "https://localhost:8080/"
        },
        "id": "2f92HaQ5yZ46",
        "outputId": "fa6ab60a-dc69-4289-a95a-114d0c0beb95"
      },
      "execution_count": 32,
      "outputs": [
        {
          "output_type": "stream",
          "name": "stdout",
          "text": [
            "0.0001769598301185631\n"
          ]
        }
      ]
    },
    {
      "cell_type": "markdown",
      "source": [
        "## Эксперимент"
      ],
      "metadata": {
        "id": "CtfezaZXFGLr"
      }
    },
    {
      "cell_type": "code",
      "source": [
        "lad_oracul = LADZeroOrderOracul(X_train, y_train.reshape((-1, 1)))\n",
        "f = lambda w: lad_oracul.get_total_loss(w)\n",
        "criteria = lambda w: lad_oracul.get_total_loss(w)"
      ],
      "metadata": {
        "id": "pDKusdSpp-hf"
      },
      "execution_count": 33,
      "outputs": []
    },
    {
      "cell_type": "markdown",
      "source": [
        "### Несколько тестов работы Оракула"
      ],
      "metadata": {
        "id": "BdzLRVS7t3oF"
      }
    },
    {
      "cell_type": "code",
      "source": [
        "w  = np.ones((8, 2))\n",
        "w[:, 1] = 1.05"
      ],
      "metadata": {
        "id": "x1ti8xm3x9XT"
      },
      "execution_count": 218,
      "outputs": []
    },
    {
      "cell_type": "code",
      "source": [
        "lad_oracul.get_two_values(w)"
      ],
      "metadata": {
        "colab": {
          "base_uri": "https://localhost:8080/"
        },
        "id": "pzfaZT3Kqwyz",
        "outputId": "6c395d17-81da-4300-94dc-7eccf0b4e699"
      },
      "execution_count": 219,
      "outputs": [
        {
          "output_type": "execute_result",
          "data": {
            "text/plain": [
              "array([1.487  , 1.71135])"
            ]
          },
          "metadata": {},
          "execution_count": 219
        }
      ]
    },
    {
      "cell_type": "code",
      "source": [
        "w  = np.ones((8, 1))\n",
        "lad_oracul.get_total_grad(w)"
      ],
      "metadata": {
        "colab": {
          "base_uri": "https://localhost:8080/"
        },
        "id": "grNRLsV6zZNq",
        "outputId": "796672e2-c49f-41d7-867f-4b60d497a0f0"
      },
      "execution_count": 220,
      "outputs": [
        {
          "output_type": "execute_result",
          "data": {
            "text/plain": [
              "array([[1.01356203],\n",
              "       [0.43866374],\n",
              "       [0.34299761],\n",
              "       [0.1171799 ],\n",
              "       [0.7537874 ],\n",
              "       [0.32893319],\n",
              "       [0.16462704],\n",
              "       [0.21553889]])"
            ]
          },
          "metadata": {},
          "execution_count": 220
        }
      ]
    },
    {
      "cell_type": "code",
      "source": [
        "criteria(w)"
      ],
      "metadata": {
        "colab": {
          "base_uri": "https://localhost:8080/"
        },
        "id": "jv5qqUuj1A1c",
        "outputId": "9312322c-4fdf-43ce-83c6-f377772fed52"
      },
      "execution_count": 221,
      "outputs": [
        {
          "output_type": "execute_result",
          "data": {
            "text/plain": [
              "1.7957126047068208"
            ]
          },
          "metadata": {},
          "execution_count": 221
        }
      ]
    },
    {
      "cell_type": "code",
      "source": [
        "lad_oracul.get_total_loss(np.ones((8, 1)))"
      ],
      "metadata": {
        "colab": {
          "base_uri": "https://localhost:8080/"
        },
        "id": "c9KvB3z3oV3L",
        "outputId": "cef01a21-a558-4c7b-fd1e-b912d8049bcb"
      },
      "execution_count": 222,
      "outputs": [
        {
          "output_type": "execute_result",
          "data": {
            "text/plain": [
              "1.7957126047068208"
            ]
          },
          "metadata": {},
          "execution_count": 222
        }
      ]
    },
    {
      "cell_type": "code",
      "source": [
        "w_0 = np.random.uniform(0, 1,(8, 1))\n",
        "gradient_approximation_central(lad_oracul, lad_gamma, w_0)"
      ],
      "metadata": {
        "colab": {
          "base_uri": "https://localhost:8080/"
        },
        "id": "mkK328X8tTCu",
        "outputId": "f35c0800-0f03-480e-caf0-b4d83f00b079"
      },
      "execution_count": 18,
      "outputs": [
        {
          "output_type": "execute_result",
          "data": {
            "text/plain": [
              "array([[ 2.42734576],\n",
              "       [ 0.33008411],\n",
              "       [ 0.7058576 ],\n",
              "       [ 4.9638564 ],\n",
              "       [ 3.27118403],\n",
              "       [-0.72989717],\n",
              "       [ 0.68347454],\n",
              "       [-2.95734786]])"
            ]
          },
          "metadata": {},
          "execution_count": 18
        }
      ]
    },
    {
      "cell_type": "markdown",
      "source": [
        "### Приближение градиента Central"
      ],
      "metadata": {
        "id": "QGmPGPHUqnzu"
      }
    },
    {
      "cell_type": "code",
      "source": [
        "nablas = {'central': lambda w: gradient_approximation_central(lad_oracul, lad_gamma, w),\n",
        "          'forward': lambda w: gradient_approximation_forward(lad_oracul, lad_gamma, w),\n",
        "          'gradient': lambda w: lad_oracul.get_total_grad(w)}\n",
        "errors = {'central': [], 'forward': [], 'gradient': []}\n",
        "times = {'central': [], 'forward': [], 'gradient': []}\n",
        "lrs = {'central': 0.01, 'forward': 0.01, 'gradient': 0.01}"
      ],
      "metadata": {
        "id": "c7cfLuINut8r"
      },
      "execution_count": 64,
      "outputs": []
    },
    {
      "cell_type": "code",
      "source": [
        "w_0 = np.zeros((X_train.shape[1], 1))\n",
        "# np.random.uniform(0, 1,(X_train.shape[1], 1))\n",
        "\n",
        "for method_name in errors.keys():\n",
        "  nabla_f = nablas[method_name]\n",
        "  w_opt, errors[method_name], times[method_name] = gradient_descent(f, nabla_f, w_0,\n",
        "                                    lr = lambda k: 0.001,\n",
        "                                    K = 10**4, eps=eps,\n",
        "                                    criteria=criteria, time_history=True)"
      ],
      "metadata": {
        "id": "5XCiL_WzFI3v"
      },
      "execution_count": 65,
      "outputs": []
    },
    {
      "cell_type": "code",
      "source": [
        "plot_loss_by_step(list(errors.values()), list(errors.keys()))"
      ],
      "metadata": {
        "colab": {
          "base_uri": "https://localhost:8080/",
          "height": 587
        },
        "id": "Y_bQry3gxLGq",
        "outputId": "d4fdcb37-1b4f-4fe6-d833-e8298ae1e4bd"
      },
      "execution_count": 66,
      "outputs": [
        {
          "output_type": "display_data",
          "data": {
            "text/plain": [
              "<Figure size 1200x600 with 1 Axes>"
            ],
            "image/png": "[encoded data removed]"
          },
          "metadata": {}
        }
      ]
    },
    {
      "cell_type": "code",
      "source": [
        "plot_loss_by_time(list(times.values()), list(errors.values()), list(errors.keys()))"
      ],
      "metadata": {
        "colab": {
          "base_uri": "https://localhost:8080/",
          "height": 587
        },
        "id": "Gctx3hnbxugU",
        "outputId": "b1f6e410-eb04-4cf8-f813-1dd9f8efe170"
      },
      "execution_count": 67,
      "outputs": [
        {
          "output_type": "display_data",
          "data": {
            "text/plain": [
              "<Figure size 1200x600 with 1 Axes>"
            ],
            "image/png": "[encoded data removed]"
          },
          "metadata": {}
        }
      ]
    },
    {
      "cell_type": "markdown",
      "source": [
        "Вывод: оба метода аппроксимации градиента гораздо быстрее градиентного спуска, при этом находят почти такие же результаты."
      ],
      "metadata": {
        "id": "pQpcmYLOyJrg"
      }
    },
    {
      "cell_type": "markdown",
      "source": [
        "# SVM"
      ],
      "metadata": {
        "id": "_igq-gHKKE_w"
      }
    },
    {
      "cell_type": "code",
      "source": [],
      "metadata": {
        "id": "PEvNoo9nKGru"
      },
      "execution_count": null,
      "outputs": []
    }
  ]
}